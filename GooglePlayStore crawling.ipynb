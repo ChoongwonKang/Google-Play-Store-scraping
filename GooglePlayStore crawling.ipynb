{
 "cells": [
  {
   "cell_type": "code",
   "execution_count": 2,
   "metadata": {},
   "outputs": [
    {
     "name": "stdout",
     "output_type": "stream",
     "text": [
      "Collecting play-scraper\n",
      "  Downloading play_scraper-0.6.0-py2.py3-none-any.whl (19 kB)\n",
      "Requirement already satisfied: beautifulsoup4>=4.6.1 in c:\\users\\user\\anaconda3\\lib\\site-packages (from play-scraper) (4.12.2)\n",
      "Requirement already satisfied: lxml>=4.2.4 in c:\\users\\user\\anaconda3\\lib\\site-packages (from play-scraper) (4.9.2)\n",
      "Collecting requests-futures>=0.9.7 (from play-scraper)\n",
      "  Downloading requests_futures-1.0.1-py2.py3-none-any.whl (7.6 kB)\n",
      "Requirement already satisfied: requests[security]>=2.20.0 in c:\\users\\user\\anaconda3\\lib\\site-packages (from play-scraper) (2.29.0)\n",
      "Requirement already satisfied: soupsieve>1.2 in c:\\users\\user\\anaconda3\\lib\\site-packages (from beautifulsoup4>=4.6.1->play-scraper) (2.4)\n",
      "Requirement already satisfied: charset-normalizer<4,>=2 in c:\\users\\user\\anaconda3\\lib\\site-packages (from requests[security]>=2.20.0->play-scraper) (2.0.4)\n",
      "Requirement already satisfied: idna<4,>=2.5 in c:\\users\\user\\anaconda3\\lib\\site-packages (from requests[security]>=2.20.0->play-scraper) (3.4)\n",
      "Requirement already satisfied: urllib3<1.27,>=1.21.1 in c:\\users\\user\\anaconda3\\lib\\site-packages (from requests[security]>=2.20.0->play-scraper) (1.26.16)\n",
      "Requirement already satisfied: certifi>=2017.4.17 in c:\\users\\user\\anaconda3\\lib\\site-packages (from requests[security]>=2.20.0->play-scraper) (2023.5.7)\n",
      "Installing collected packages: requests-futures, play-scraper\n",
      "Successfully installed play-scraper-0.6.0 requests-futures-1.0.1\n",
      "Requirement already satisfied: play-scraper in c:\\users\\user\\anaconda3\\lib\\site-packages (0.6.0)\n",
      "Requirement already satisfied: beautifulsoup4>=4.6.1 in c:\\users\\user\\anaconda3\\lib\\site-packages (from play-scraper) (4.12.2)\n",
      "Requirement already satisfied: lxml>=4.2.4 in c:\\users\\user\\anaconda3\\lib\\site-packages (from play-scraper) (4.9.2)\n",
      "Requirement already satisfied: requests-futures>=0.9.7 in c:\\users\\user\\anaconda3\\lib\\site-packages (from play-scraper) (1.0.1)\n",
      "Requirement already satisfied: requests[security]>=2.20.0 in c:\\users\\user\\anaconda3\\lib\\site-packages (from play-scraper) (2.29.0)\n",
      "Requirement already satisfied: soupsieve>1.2 in c:\\users\\user\\anaconda3\\lib\\site-packages (from beautifulsoup4>=4.6.1->play-scraper) (2.4)\n",
      "Requirement already satisfied: charset-normalizer<4,>=2 in c:\\users\\user\\anaconda3\\lib\\site-packages (from requests[security]>=2.20.0->play-scraper) (2.0.4)\n",
      "Requirement already satisfied: idna<4,>=2.5 in c:\\users\\user\\anaconda3\\lib\\site-packages (from requests[security]>=2.20.0->play-scraper) (3.4)\n",
      "Requirement already satisfied: urllib3<1.27,>=1.21.1 in c:\\users\\user\\anaconda3\\lib\\site-packages (from requests[security]>=2.20.0->play-scraper) (1.26.16)\n",
      "Requirement already satisfied: certifi>=2017.4.17 in c:\\users\\user\\anaconda3\\lib\\site-packages (from requests[security]>=2.20.0->play-scraper) (2023.5.7)\n"
     ]
    }
   ],
   "source": [
    "!pip install play-scraper"
   ]
  },
  {
   "cell_type": "code",
   "execution_count": 3,
   "metadata": {},
   "outputs": [
    {
     "name": "stdout",
     "output_type": "stream",
     "text": [
      "Collecting google-play-scraper\n",
      "  Downloading google_play_scraper-1.2.4-py3-none-any.whl (28 kB)\n",
      "Installing collected packages: google-play-scraper\n",
      "Successfully installed google-play-scraper-1.2.4\n"
     ]
    }
   ],
   "source": [
    "!pip install google-play-scraper"
   ]
  },
  {
   "cell_type": "code",
   "execution_count": 2,
   "metadata": {},
   "outputs": [],
   "source": [
    "from google_play_scraper import Sort, reviews_all\n",
    "import csv"
   ]
  },
  {
   "cell_type": "code",
   "execution_count": 4,
   "metadata": {},
   "outputs": [],
   "source": [
    "def crawling(sleep_seconds, app_name):\n",
    "    result = reviews_all(\n",
    "        app_name,\n",
    "        sleep_milliseconds= sleep_seconds, # defaults to 0\n",
    "        lang='en', # defaults to 'en'\n",
    "        country='us', # defaults to 'us'\n",
    "        sort=Sort.MOST_RELEVANT # defaults to Sort.MOST_RELEVANT\n",
    "     # defaults to None(means all score)\n",
    "    )\n",
    "    \n",
    "    return result\n",
    "\n",
    "\n",
    "def classification(result):\n",
    "    #next(item for item in result if item[\"content\"])\n",
    "    review_all = [d['content'] for d in result if 'content' in d]\n",
    "    score_all = [d['score'] for d in result if 'score' in d]\n",
    "    agree_all = [d['thumbsUpCount'] for d in result if 'thumbsUpCount' in d]\n",
    "    date_all = [d['at'] for d in result if 'at' in d]\n",
    "    \n",
    "    total_li = [review_all, score_all, agree_all, date_all]\n",
    "    \n",
    "    return total_li\n",
    "\n",
    "\n",
    "def saveData(total_li):\n",
    "    review_all = total_li[0]\n",
    "    score_all = total_li[1]\n",
    "    agree_all = total_li[2]\n",
    "    date_all = total_li[3]\n",
    "    \n",
    "    everything = []\n",
    "\n",
    "    for i in range(len(review_all)):\n",
    "        everything.append((review_all[i],score_all[i],agree_all[i],date_all[i]))\n",
    "\n",
    "\n",
    "    with open(\"Bing_reviews_20231019.csv\", 'wt', encoding='utf-8-sig', newline='') as file:\n",
    "            csvWriter = csv.writer(file)\n",
    "            csvWriter.writerow([\"contents\", \"star\", \"agree\",\"date\"])\n",
    "\n",
    "            for i in everything:\n",
    "                csvWriter.writerow(i)\n",
    "\n",
    "\n",
    "\n",
    "def main():\n",
    "    top_len = 0\n",
    "    try_number = 200\n",
    "    sleep_seconds = 150 # default\n",
    "    app_name = 'com.microsoft.bing'\n",
    "\n",
    "    for i in range(try_number):\n",
    "        result = crawling(sleep_seconds,app_name)\n",
    "        total_li = classification(result)\n",
    "        print(i+1,\"번 째 시도\")\n",
    "        \n",
    "        if top_len < len(total_li[0]) and len(total_li[0]) == len(total_li[1]) == len(total_li[2]) == len(total_li[3]):\n",
    "            top_len = len(total_li[0])\n",
    "            print(top_len,\"개의 데이터 수집\")\n",
    "\n",
    "            saveData(total_li)\n"
   ]
  },
  {
   "cell_type": "code",
   "execution_count": 5,
   "metadata": {},
   "outputs": [
    {
     "name": "stdout",
     "output_type": "stream",
     "text": [
      "1 번 째 시도\n",
      "80266 개의 데이터 수집\n",
      "2 번 째 시도\n",
      "80310 개의 데이터 수집\n",
      "3 번 째 시도\n",
      "4 번 째 시도\n",
      "80367 개의 데이터 수집\n"
     ]
    },
    {
     "ename": "KeyboardInterrupt",
     "evalue": "",
     "output_type": "error",
     "traceback": [
      "\u001b[1;31m---------------------------------------------------------------------------\u001b[0m",
      "\u001b[1;31mKeyboardInterrupt\u001b[0m                         Traceback (most recent call last)",
      "\u001b[1;32mc:\\Users\\USER\\대학원\\GooglePlayStore crawling.ipynb Cell 5\u001b[0m line \u001b[0;36m2\n\u001b[0;32m      <a href='vscode-notebook-cell:/c%3A/Users/USER/%EB%8C%80%ED%95%99%EC%9B%90/GooglePlayStore%20crawling.ipynb#W5sZmlsZQ%3D%3D?line=0'>1</a>\u001b[0m \u001b[39m#action\u001b[39;00m\n\u001b[1;32m----> <a href='vscode-notebook-cell:/c%3A/Users/USER/%EB%8C%80%ED%95%99%EC%9B%90/GooglePlayStore%20crawling.ipynb#W5sZmlsZQ%3D%3D?line=1'>2</a>\u001b[0m main()\n",
      "\u001b[1;32mc:\\Users\\USER\\대학원\\GooglePlayStore crawling.ipynb Cell 5\u001b[0m line \u001b[0;36m5\n\u001b[0;32m     <a href='vscode-notebook-cell:/c%3A/Users/USER/%EB%8C%80%ED%95%99%EC%9B%90/GooglePlayStore%20crawling.ipynb#W5sZmlsZQ%3D%3D?line=50'>51</a>\u001b[0m app_name \u001b[39m=\u001b[39m \u001b[39m'\u001b[39m\u001b[39mcom.microsoft.bing\u001b[39m\u001b[39m'\u001b[39m\n\u001b[0;32m     <a href='vscode-notebook-cell:/c%3A/Users/USER/%EB%8C%80%ED%95%99%EC%9B%90/GooglePlayStore%20crawling.ipynb#W5sZmlsZQ%3D%3D?line=52'>53</a>\u001b[0m \u001b[39mfor\u001b[39;00m i \u001b[39min\u001b[39;00m \u001b[39mrange\u001b[39m(try_number):\n\u001b[1;32m---> <a href='vscode-notebook-cell:/c%3A/Users/USER/%EB%8C%80%ED%95%99%EC%9B%90/GooglePlayStore%20crawling.ipynb#W5sZmlsZQ%3D%3D?line=53'>54</a>\u001b[0m     result \u001b[39m=\u001b[39m crawling(sleep_seconds,app_name)\n\u001b[0;32m     <a href='vscode-notebook-cell:/c%3A/Users/USER/%EB%8C%80%ED%95%99%EC%9B%90/GooglePlayStore%20crawling.ipynb#W5sZmlsZQ%3D%3D?line=54'>55</a>\u001b[0m     total_li \u001b[39m=\u001b[39m classification(result)\n\u001b[0;32m     <a href='vscode-notebook-cell:/c%3A/Users/USER/%EB%8C%80%ED%95%99%EC%9B%90/GooglePlayStore%20crawling.ipynb#W5sZmlsZQ%3D%3D?line=55'>56</a>\u001b[0m     \u001b[39mprint\u001b[39m(i\u001b[39m+\u001b[39m\u001b[39m1\u001b[39m,\u001b[39m\"\u001b[39m\u001b[39m번 째 시도\u001b[39m\u001b[39m\"\u001b[39m)\n",
      "\u001b[1;32mc:\\Users\\USER\\대학원\\GooglePlayStore crawling.ipynb Cell 5\u001b[0m line \u001b[0;36m2\n\u001b[0;32m      <a href='vscode-notebook-cell:/c%3A/Users/USER/%EB%8C%80%ED%95%99%EC%9B%90/GooglePlayStore%20crawling.ipynb#W5sZmlsZQ%3D%3D?line=0'>1</a>\u001b[0m \u001b[39mdef\u001b[39;00m \u001b[39mcrawling\u001b[39m(sleep_seconds, app_name):\n\u001b[1;32m----> <a href='vscode-notebook-cell:/c%3A/Users/USER/%EB%8C%80%ED%95%99%EC%9B%90/GooglePlayStore%20crawling.ipynb#W5sZmlsZQ%3D%3D?line=1'>2</a>\u001b[0m     result \u001b[39m=\u001b[39m reviews_all(\n\u001b[0;32m      <a href='vscode-notebook-cell:/c%3A/Users/USER/%EB%8C%80%ED%95%99%EC%9B%90/GooglePlayStore%20crawling.ipynb#W5sZmlsZQ%3D%3D?line=2'>3</a>\u001b[0m         app_name,\n\u001b[0;32m      <a href='vscode-notebook-cell:/c%3A/Users/USER/%EB%8C%80%ED%95%99%EC%9B%90/GooglePlayStore%20crawling.ipynb#W5sZmlsZQ%3D%3D?line=3'>4</a>\u001b[0m         sleep_milliseconds\u001b[39m=\u001b[39;49m sleep_seconds, \u001b[39m# defaults to 0\u001b[39;49;00m\n\u001b[0;32m      <a href='vscode-notebook-cell:/c%3A/Users/USER/%EB%8C%80%ED%95%99%EC%9B%90/GooglePlayStore%20crawling.ipynb#W5sZmlsZQ%3D%3D?line=4'>5</a>\u001b[0m         lang\u001b[39m=\u001b[39;49m\u001b[39m'\u001b[39;49m\u001b[39men\u001b[39;49m\u001b[39m'\u001b[39;49m, \u001b[39m# defaults to 'en'\u001b[39;49;00m\n\u001b[0;32m      <a href='vscode-notebook-cell:/c%3A/Users/USER/%EB%8C%80%ED%95%99%EC%9B%90/GooglePlayStore%20crawling.ipynb#W5sZmlsZQ%3D%3D?line=5'>6</a>\u001b[0m         country\u001b[39m=\u001b[39;49m\u001b[39m'\u001b[39;49m\u001b[39mus\u001b[39;49m\u001b[39m'\u001b[39;49m, \u001b[39m# defaults to 'us'\u001b[39;49;00m\n\u001b[0;32m      <a href='vscode-notebook-cell:/c%3A/Users/USER/%EB%8C%80%ED%95%99%EC%9B%90/GooglePlayStore%20crawling.ipynb#W5sZmlsZQ%3D%3D?line=6'>7</a>\u001b[0m         sort\u001b[39m=\u001b[39;49mSort\u001b[39m.\u001b[39;49mMOST_RELEVANT \u001b[39m# defaults to Sort.MOST_RELEVANT\u001b[39;49;00m\n\u001b[0;32m      <a href='vscode-notebook-cell:/c%3A/Users/USER/%EB%8C%80%ED%95%99%EC%9B%90/GooglePlayStore%20crawling.ipynb#W5sZmlsZQ%3D%3D?line=7'>8</a>\u001b[0m      \u001b[39m# defaults to None(means all score)\u001b[39;49;00m\n\u001b[0;32m      <a href='vscode-notebook-cell:/c%3A/Users/USER/%EB%8C%80%ED%95%99%EC%9B%90/GooglePlayStore%20crawling.ipynb#W5sZmlsZQ%3D%3D?line=8'>9</a>\u001b[0m     )\n\u001b[0;32m     <a href='vscode-notebook-cell:/c%3A/Users/USER/%EB%8C%80%ED%95%99%EC%9B%90/GooglePlayStore%20crawling.ipynb#W5sZmlsZQ%3D%3D?line=10'>11</a>\u001b[0m     \u001b[39mreturn\u001b[39;00m result\n",
      "File \u001b[1;32mc:\\Users\\USER\\anaconda3\\Lib\\site-packages\\google_play_scraper\\features\\reviews.py:127\u001b[0m, in \u001b[0;36mreviews_all\u001b[1;34m(app_id, sleep_milliseconds, **kwargs)\u001b[0m\n\u001b[0;32m    124\u001b[0m result \u001b[39m=\u001b[39m []\n\u001b[0;32m    126\u001b[0m \u001b[39mwhile\u001b[39;00m \u001b[39mTrue\u001b[39;00m:\n\u001b[1;32m--> 127\u001b[0m     _result, continuation_token \u001b[39m=\u001b[39m reviews(\n\u001b[0;32m    128\u001b[0m         app_id,\n\u001b[0;32m    129\u001b[0m         count\u001b[39m=\u001b[39;49mMAX_COUNT_EACH_FETCH,\n\u001b[0;32m    130\u001b[0m         continuation_token\u001b[39m=\u001b[39;49mcontinuation_token,\n\u001b[0;32m    131\u001b[0m         \u001b[39m*\u001b[39;49m\u001b[39m*\u001b[39;49mkwargs\n\u001b[0;32m    132\u001b[0m     )\n\u001b[0;32m    134\u001b[0m     result \u001b[39m+\u001b[39m\u001b[39m=\u001b[39m _result\n\u001b[0;32m    136\u001b[0m     \u001b[39mif\u001b[39;00m continuation_token\u001b[39m.\u001b[39mtoken \u001b[39mis\u001b[39;00m \u001b[39mNone\u001b[39;00m:\n",
      "File \u001b[1;32mc:\\Users\\USER\\anaconda3\\Lib\\site-packages\\google_play_scraper\\features\\reviews.py:91\u001b[0m, in \u001b[0;36mreviews\u001b[1;34m(app_id, lang, country, sort, count, filter_score_with, continuation_token)\u001b[0m\n\u001b[0;32m     88\u001b[0m     _fetch_count \u001b[39m=\u001b[39m MAX_COUNT_EACH_FETCH\n\u001b[0;32m     90\u001b[0m \u001b[39mtry\u001b[39;00m:\n\u001b[1;32m---> 91\u001b[0m     review_items, token \u001b[39m=\u001b[39m _fetch_review_items(\n\u001b[0;32m     92\u001b[0m         url, app_id, sort, _fetch_count, filter_score_with, token\n\u001b[0;32m     93\u001b[0m     )\n\u001b[0;32m     94\u001b[0m \u001b[39mexcept\u001b[39;00m (\u001b[39mTypeError\u001b[39;00m, \u001b[39mIndexError\u001b[39;00m):\n\u001b[0;32m     95\u001b[0m     token \u001b[39m=\u001b[39m \u001b[39mNone\u001b[39;00m\n",
      "File \u001b[1;32mc:\\Users\\USER\\anaconda3\\Lib\\site-packages\\google_play_scraper\\features\\reviews.py:34\u001b[0m, in \u001b[0;36m_fetch_review_items\u001b[1;34m(url, app_id, sort, count, filter_score_with, pagination_token)\u001b[0m\n\u001b[0;32m     26\u001b[0m \u001b[39mdef\u001b[39;00m \u001b[39m_fetch_review_items\u001b[39m(\n\u001b[0;32m     27\u001b[0m     url: \u001b[39mstr\u001b[39m,\n\u001b[0;32m     28\u001b[0m     app_id: \u001b[39mstr\u001b[39m,\n\u001b[1;32m   (...)\u001b[0m\n\u001b[0;32m     32\u001b[0m     pagination_token: Optional[\u001b[39mstr\u001b[39m],\n\u001b[0;32m     33\u001b[0m ):\n\u001b[1;32m---> 34\u001b[0m     dom \u001b[39m=\u001b[39m post(\n\u001b[0;32m     35\u001b[0m         url,\n\u001b[0;32m     36\u001b[0m         Formats\u001b[39m.\u001b[39;49mReviews\u001b[39m.\u001b[39;49mbuild_body(\n\u001b[0;32m     37\u001b[0m             app_id,\n\u001b[0;32m     38\u001b[0m             sort,\n\u001b[0;32m     39\u001b[0m             count,\n\u001b[0;32m     40\u001b[0m             \u001b[39m\"\u001b[39;49m\u001b[39mnull\u001b[39;49m\u001b[39m\"\u001b[39;49m \u001b[39mif\u001b[39;49;00m filter_score_with \u001b[39mis\u001b[39;49;00m \u001b[39mNone\u001b[39;49;00m \u001b[39melse\u001b[39;49;00m filter_score_with,\n\u001b[0;32m     41\u001b[0m             pagination_token,\n\u001b[0;32m     42\u001b[0m         ),\n\u001b[0;32m     43\u001b[0m         {\u001b[39m\"\u001b[39;49m\u001b[39mcontent-type\u001b[39;49m\u001b[39m\"\u001b[39;49m: \u001b[39m\"\u001b[39;49m\u001b[39mapplication/x-www-form-urlencoded\u001b[39;49m\u001b[39m\"\u001b[39;49m},\n\u001b[0;32m     44\u001b[0m     )\n\u001b[0;32m     46\u001b[0m     match \u001b[39m=\u001b[39m json\u001b[39m.\u001b[39mloads(Regex\u001b[39m.\u001b[39mREVIEWS\u001b[39m.\u001b[39mfindall(dom)[\u001b[39m0\u001b[39m])\n\u001b[0;32m     48\u001b[0m     \u001b[39mreturn\u001b[39;00m json\u001b[39m.\u001b[39mloads(match[\u001b[39m0\u001b[39m][\u001b[39m2\u001b[39m])[\u001b[39m0\u001b[39m], json\u001b[39m.\u001b[39mloads(match[\u001b[39m0\u001b[39m][\u001b[39m2\u001b[39m])[\u001b[39m-\u001b[39m\u001b[39m1\u001b[39m][\u001b[39m-\u001b[39m\u001b[39m1\u001b[39m]\n",
      "File \u001b[1;32mc:\\Users\\USER\\anaconda3\\Lib\\site-packages\\google_play_scraper\\utils\\request.py:23\u001b[0m, in \u001b[0;36mpost\u001b[1;34m(url, data, headers)\u001b[0m\n\u001b[0;32m     22\u001b[0m \u001b[39mdef\u001b[39;00m \u001b[39mpost\u001b[39m(url: \u001b[39mstr\u001b[39m, data: Union[\u001b[39mstr\u001b[39m, \u001b[39mbytes\u001b[39m], headers: \u001b[39mdict\u001b[39m) \u001b[39m-\u001b[39m\u001b[39m>\u001b[39m \u001b[39mstr\u001b[39m:\n\u001b[1;32m---> 23\u001b[0m     \u001b[39mreturn\u001b[39;00m _urlopen(Request(url, data\u001b[39m=\u001b[39;49mdata, headers\u001b[39m=\u001b[39;49mheaders))\n",
      "File \u001b[1;32mc:\\Users\\USER\\anaconda3\\Lib\\site-packages\\google_play_scraper\\utils\\request.py:10\u001b[0m, in \u001b[0;36m_urlopen\u001b[1;34m(obj)\u001b[0m\n\u001b[0;32m      8\u001b[0m \u001b[39mdef\u001b[39;00m \u001b[39m_urlopen\u001b[39m(obj):\n\u001b[0;32m      9\u001b[0m     \u001b[39mtry\u001b[39;00m:\n\u001b[1;32m---> 10\u001b[0m         resp \u001b[39m=\u001b[39m urlopen(obj)\n\u001b[0;32m     11\u001b[0m     \u001b[39mexcept\u001b[39;00m HTTPError \u001b[39mas\u001b[39;00m e:\n\u001b[0;32m     12\u001b[0m         \u001b[39mif\u001b[39;00m e\u001b[39m.\u001b[39mcode \u001b[39m==\u001b[39m \u001b[39m404\u001b[39m:\n",
      "File \u001b[1;32mc:\\Users\\USER\\anaconda3\\Lib\\urllib\\request.py:216\u001b[0m, in \u001b[0;36murlopen\u001b[1;34m(url, data, timeout, cafile, capath, cadefault, context)\u001b[0m\n\u001b[0;32m    214\u001b[0m \u001b[39melse\u001b[39;00m:\n\u001b[0;32m    215\u001b[0m     opener \u001b[39m=\u001b[39m _opener\n\u001b[1;32m--> 216\u001b[0m \u001b[39mreturn\u001b[39;00m opener\u001b[39m.\u001b[39;49mopen(url, data, timeout)\n",
      "File \u001b[1;32mc:\\Users\\USER\\anaconda3\\Lib\\urllib\\request.py:519\u001b[0m, in \u001b[0;36mOpenerDirector.open\u001b[1;34m(self, fullurl, data, timeout)\u001b[0m\n\u001b[0;32m    516\u001b[0m     req \u001b[39m=\u001b[39m meth(req)\n\u001b[0;32m    518\u001b[0m sys\u001b[39m.\u001b[39maudit(\u001b[39m'\u001b[39m\u001b[39murllib.Request\u001b[39m\u001b[39m'\u001b[39m, req\u001b[39m.\u001b[39mfull_url, req\u001b[39m.\u001b[39mdata, req\u001b[39m.\u001b[39mheaders, req\u001b[39m.\u001b[39mget_method())\n\u001b[1;32m--> 519\u001b[0m response \u001b[39m=\u001b[39m \u001b[39mself\u001b[39;49m\u001b[39m.\u001b[39;49m_open(req, data)\n\u001b[0;32m    521\u001b[0m \u001b[39m# post-process response\u001b[39;00m\n\u001b[0;32m    522\u001b[0m meth_name \u001b[39m=\u001b[39m protocol\u001b[39m+\u001b[39m\u001b[39m\"\u001b[39m\u001b[39m_response\u001b[39m\u001b[39m\"\u001b[39m\n",
      "File \u001b[1;32mc:\\Users\\USER\\anaconda3\\Lib\\urllib\\request.py:536\u001b[0m, in \u001b[0;36mOpenerDirector._open\u001b[1;34m(self, req, data)\u001b[0m\n\u001b[0;32m    533\u001b[0m     \u001b[39mreturn\u001b[39;00m result\n\u001b[0;32m    535\u001b[0m protocol \u001b[39m=\u001b[39m req\u001b[39m.\u001b[39mtype\n\u001b[1;32m--> 536\u001b[0m result \u001b[39m=\u001b[39m \u001b[39mself\u001b[39;49m\u001b[39m.\u001b[39;49m_call_chain(\u001b[39mself\u001b[39;49m\u001b[39m.\u001b[39;49mhandle_open, protocol, protocol \u001b[39m+\u001b[39;49m\n\u001b[0;32m    537\u001b[0m                           \u001b[39m'\u001b[39;49m\u001b[39m_open\u001b[39;49m\u001b[39m'\u001b[39;49m, req)\n\u001b[0;32m    538\u001b[0m \u001b[39mif\u001b[39;00m result:\n\u001b[0;32m    539\u001b[0m     \u001b[39mreturn\u001b[39;00m result\n",
      "File \u001b[1;32mc:\\Users\\USER\\anaconda3\\Lib\\urllib\\request.py:496\u001b[0m, in \u001b[0;36mOpenerDirector._call_chain\u001b[1;34m(self, chain, kind, meth_name, *args)\u001b[0m\n\u001b[0;32m    494\u001b[0m \u001b[39mfor\u001b[39;00m handler \u001b[39min\u001b[39;00m handlers:\n\u001b[0;32m    495\u001b[0m     func \u001b[39m=\u001b[39m \u001b[39mgetattr\u001b[39m(handler, meth_name)\n\u001b[1;32m--> 496\u001b[0m     result \u001b[39m=\u001b[39m func(\u001b[39m*\u001b[39;49margs)\n\u001b[0;32m    497\u001b[0m     \u001b[39mif\u001b[39;00m result \u001b[39mis\u001b[39;00m \u001b[39mnot\u001b[39;00m \u001b[39mNone\u001b[39;00m:\n\u001b[0;32m    498\u001b[0m         \u001b[39mreturn\u001b[39;00m result\n",
      "File \u001b[1;32mc:\\Users\\USER\\anaconda3\\Lib\\urllib\\request.py:1391\u001b[0m, in \u001b[0;36mHTTPSHandler.https_open\u001b[1;34m(self, req)\u001b[0m\n\u001b[0;32m   1390\u001b[0m \u001b[39mdef\u001b[39;00m \u001b[39mhttps_open\u001b[39m(\u001b[39mself\u001b[39m, req):\n\u001b[1;32m-> 1391\u001b[0m     \u001b[39mreturn\u001b[39;00m \u001b[39mself\u001b[39;49m\u001b[39m.\u001b[39;49mdo_open(http\u001b[39m.\u001b[39;49mclient\u001b[39m.\u001b[39;49mHTTPSConnection, req,\n\u001b[0;32m   1392\u001b[0m         context\u001b[39m=\u001b[39;49m\u001b[39mself\u001b[39;49m\u001b[39m.\u001b[39;49m_context, check_hostname\u001b[39m=\u001b[39;49m\u001b[39mself\u001b[39;49m\u001b[39m.\u001b[39;49m_check_hostname)\n",
      "File \u001b[1;32mc:\\Users\\USER\\anaconda3\\Lib\\urllib\\request.py:1352\u001b[0m, in \u001b[0;36mAbstractHTTPHandler.do_open\u001b[1;34m(self, http_class, req, **http_conn_args)\u001b[0m\n\u001b[0;32m   1350\u001b[0m     \u001b[39mexcept\u001b[39;00m \u001b[39mOSError\u001b[39;00m \u001b[39mas\u001b[39;00m err: \u001b[39m# timeout error\u001b[39;00m\n\u001b[0;32m   1351\u001b[0m         \u001b[39mraise\u001b[39;00m URLError(err)\n\u001b[1;32m-> 1352\u001b[0m     r \u001b[39m=\u001b[39m h\u001b[39m.\u001b[39;49mgetresponse()\n\u001b[0;32m   1353\u001b[0m \u001b[39mexcept\u001b[39;00m:\n\u001b[0;32m   1354\u001b[0m     h\u001b[39m.\u001b[39mclose()\n",
      "File \u001b[1;32mc:\\Users\\USER\\anaconda3\\Lib\\http\\client.py:1375\u001b[0m, in \u001b[0;36mHTTPConnection.getresponse\u001b[1;34m(self)\u001b[0m\n\u001b[0;32m   1373\u001b[0m \u001b[39mtry\u001b[39;00m:\n\u001b[0;32m   1374\u001b[0m     \u001b[39mtry\u001b[39;00m:\n\u001b[1;32m-> 1375\u001b[0m         response\u001b[39m.\u001b[39;49mbegin()\n\u001b[0;32m   1376\u001b[0m     \u001b[39mexcept\u001b[39;00m \u001b[39mConnectionError\u001b[39;00m:\n\u001b[0;32m   1377\u001b[0m         \u001b[39mself\u001b[39m\u001b[39m.\u001b[39mclose()\n",
      "File \u001b[1;32mc:\\Users\\USER\\anaconda3\\Lib\\http\\client.py:318\u001b[0m, in \u001b[0;36mHTTPResponse.begin\u001b[1;34m(self)\u001b[0m\n\u001b[0;32m    316\u001b[0m \u001b[39m# read until we get a non-100 response\u001b[39;00m\n\u001b[0;32m    317\u001b[0m \u001b[39mwhile\u001b[39;00m \u001b[39mTrue\u001b[39;00m:\n\u001b[1;32m--> 318\u001b[0m     version, status, reason \u001b[39m=\u001b[39m \u001b[39mself\u001b[39;49m\u001b[39m.\u001b[39;49m_read_status()\n\u001b[0;32m    319\u001b[0m     \u001b[39mif\u001b[39;00m status \u001b[39m!=\u001b[39m CONTINUE:\n\u001b[0;32m    320\u001b[0m         \u001b[39mbreak\u001b[39;00m\n",
      "File \u001b[1;32mc:\\Users\\USER\\anaconda3\\Lib\\http\\client.py:279\u001b[0m, in \u001b[0;36mHTTPResponse._read_status\u001b[1;34m(self)\u001b[0m\n\u001b[0;32m    278\u001b[0m \u001b[39mdef\u001b[39;00m \u001b[39m_read_status\u001b[39m(\u001b[39mself\u001b[39m):\n\u001b[1;32m--> 279\u001b[0m     line \u001b[39m=\u001b[39m \u001b[39mstr\u001b[39m(\u001b[39mself\u001b[39m\u001b[39m.\u001b[39mfp\u001b[39m.\u001b[39mreadline(_MAXLINE \u001b[39m+\u001b[39m \u001b[39m1\u001b[39m), \u001b[39m\"\u001b[39m\u001b[39miso-8859-1\u001b[39m\u001b[39m\"\u001b[39m)\n\u001b[0;32m    280\u001b[0m     \u001b[39mif\u001b[39;00m \u001b[39mlen\u001b[39m(line) \u001b[39m>\u001b[39m _MAXLINE:\n\u001b[0;32m    281\u001b[0m         \u001b[39mraise\u001b[39;00m LineTooLong(\u001b[39m\"\u001b[39m\u001b[39mstatus line\u001b[39m\u001b[39m\"\u001b[39m)\n",
      "File \u001b[1;32mc:\\Users\\USER\\anaconda3\\Lib\\socket.py:706\u001b[0m, in \u001b[0;36mSocketIO.readinto\u001b[1;34m(self, b)\u001b[0m\n\u001b[0;32m    704\u001b[0m \u001b[39mwhile\u001b[39;00m \u001b[39mTrue\u001b[39;00m:\n\u001b[0;32m    705\u001b[0m     \u001b[39mtry\u001b[39;00m:\n\u001b[1;32m--> 706\u001b[0m         \u001b[39mreturn\u001b[39;00m \u001b[39mself\u001b[39;49m\u001b[39m.\u001b[39;49m_sock\u001b[39m.\u001b[39;49mrecv_into(b)\n\u001b[0;32m    707\u001b[0m     \u001b[39mexcept\u001b[39;00m timeout:\n\u001b[0;32m    708\u001b[0m         \u001b[39mself\u001b[39m\u001b[39m.\u001b[39m_timeout_occurred \u001b[39m=\u001b[39m \u001b[39mTrue\u001b[39;00m\n",
      "File \u001b[1;32mc:\\Users\\USER\\anaconda3\\Lib\\ssl.py:1278\u001b[0m, in \u001b[0;36mSSLSocket.recv_into\u001b[1;34m(self, buffer, nbytes, flags)\u001b[0m\n\u001b[0;32m   1274\u001b[0m     \u001b[39mif\u001b[39;00m flags \u001b[39m!=\u001b[39m \u001b[39m0\u001b[39m:\n\u001b[0;32m   1275\u001b[0m         \u001b[39mraise\u001b[39;00m \u001b[39mValueError\u001b[39;00m(\n\u001b[0;32m   1276\u001b[0m           \u001b[39m\"\u001b[39m\u001b[39mnon-zero flags not allowed in calls to recv_into() on \u001b[39m\u001b[39m%s\u001b[39;00m\u001b[39m\"\u001b[39m \u001b[39m%\u001b[39m\n\u001b[0;32m   1277\u001b[0m           \u001b[39mself\u001b[39m\u001b[39m.\u001b[39m\u001b[39m__class__\u001b[39m)\n\u001b[1;32m-> 1278\u001b[0m     \u001b[39mreturn\u001b[39;00m \u001b[39mself\u001b[39;49m\u001b[39m.\u001b[39;49mread(nbytes, buffer)\n\u001b[0;32m   1279\u001b[0m \u001b[39melse\u001b[39;00m:\n\u001b[0;32m   1280\u001b[0m     \u001b[39mreturn\u001b[39;00m \u001b[39msuper\u001b[39m()\u001b[39m.\u001b[39mrecv_into(buffer, nbytes, flags)\n",
      "File \u001b[1;32mc:\\Users\\USER\\anaconda3\\Lib\\ssl.py:1134\u001b[0m, in \u001b[0;36mSSLSocket.read\u001b[1;34m(self, len, buffer)\u001b[0m\n\u001b[0;32m   1132\u001b[0m \u001b[39mtry\u001b[39;00m:\n\u001b[0;32m   1133\u001b[0m     \u001b[39mif\u001b[39;00m buffer \u001b[39mis\u001b[39;00m \u001b[39mnot\u001b[39;00m \u001b[39mNone\u001b[39;00m:\n\u001b[1;32m-> 1134\u001b[0m         \u001b[39mreturn\u001b[39;00m \u001b[39mself\u001b[39;49m\u001b[39m.\u001b[39;49m_sslobj\u001b[39m.\u001b[39;49mread(\u001b[39mlen\u001b[39;49m, buffer)\n\u001b[0;32m   1135\u001b[0m     \u001b[39melse\u001b[39;00m:\n\u001b[0;32m   1136\u001b[0m         \u001b[39mreturn\u001b[39;00m \u001b[39mself\u001b[39m\u001b[39m.\u001b[39m_sslobj\u001b[39m.\u001b[39mread(\u001b[39mlen\u001b[39m)\n",
      "\u001b[1;31mKeyboardInterrupt\u001b[0m: "
     ]
    }
   ],
   "source": [
    "#action\n",
    "main()"
   ]
  }
 ],
 "metadata": {
  "kernelspec": {
   "display_name": "base",
   "language": "python",
   "name": "python3"
  },
  "language_info": {
   "codemirror_mode": {
    "name": "ipython",
    "version": 3
   },
   "file_extension": ".py",
   "mimetype": "text/x-python",
   "name": "python",
   "nbconvert_exporter": "python",
   "pygments_lexer": "ipython3",
   "version": "3.11.3"
  }
 },
 "nbformat": 4,
 "nbformat_minor": 2
}
